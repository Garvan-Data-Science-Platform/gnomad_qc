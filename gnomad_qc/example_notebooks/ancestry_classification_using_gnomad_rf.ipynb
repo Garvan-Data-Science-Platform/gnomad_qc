{
 "cells": [
  {
   "cell_type": "markdown",
   "id": "2a2484e6",
   "metadata": {},
   "source": [
    "# Example of using the gnomAD genetic ancestry principal components analysis loadings and random forest classifier"
   ]
  },
  {
   "cell_type": "markdown",
   "id": "69559774",
   "metadata": {},
   "source": [
    "Please read our [blog post](https://gnomad.broadinstitute.org/news/2021-09-using-the-gnomad-ancestry-principal-components-analysis-loadings-and-random-forest-classifier-on-your-dataset/) about important caveats to consider when using gnomAD ancestry principal components analysis loadings and random forest classifier models on your own dataset."
   ]
  },
  {
   "cell_type": "markdown",
   "id": "2fd023da",
   "metadata": {
    "toc": true
   },
   "source": [
    "<h1>Table of Contents<span class=\"tocSkip\"></span></h1>\n",
    "<div class=\"toc\"><ul class=\"toc-item\"><li><span><a href=\"#The-following-packages-are-required-for-this-example\" data-toc-modified-id=\"The-following-packages-are-required-for-this-example-1\">The following packages are required for this example</a></span></li><li><span><a href=\"#Imports\" data-toc-modified-id=\"Imports-2\">Imports</a></span></li><li><span><a href=\"#Data-Loading\" data-toc-modified-id=\"Data-Loading-3\">Data Loading</a></span><ul class=\"toc-item\"><li><span><a href=\"#Define-file-paths\" data-toc-modified-id=\"Define-file-paths-3.1\">Define file paths</a></span><ul class=\"toc-item\"><li><span><a href=\"#v3-example-paths\" data-toc-modified-id=\"v3-example-paths-3.1.1\">v3 example paths</a></span></li><li><span><a href=\"#v2-example-paths\" data-toc-modified-id=\"v2-example-paths-3.1.2\">v2 example paths</a></span></li></ul></li><li><span><a href=\"#Define-the-number-of-PCs-used-for-v2-and-v3-genetic-ancestry-group-classification\" data-toc-modified-id=\"Define-the-number-of-PCs-used-for-v2-and-v3-genetic-ancestry-group-classification-3.2\">Define the number of PCs used for v2 and v3 genetic ancestry group classification</a></span></li><li><span><a href=\"#Define-the-RF-minimum-probability-used-for-v2-and-v3-genetic-ancestry-group-classification\" data-toc-modified-id=\"Define-the-RF-minimum-probability-used-for-v2-and-v3-genetic-ancestry-group-classification-3.3\">Define the RF minimum probability used for v2 and v3 genetic ancestry group classification</a></span></li><li><span><a href=\"#Load-ONNX-models\" data-toc-modified-id=\"Load-ONNX-models-3.4\">Load ONNX models</a></span></li><li><span><a href=\"#Load-gnomAD-v3.1-loadings-Hail-Table-and-the-VariantDataset-to-apply-projection-and-genetic-ancestry-group-assignment-to\" data-toc-modified-id=\"Load-gnomAD-v3.1-loadings-Hail-Table-and-the-VariantDataset-to-apply-projection-and-genetic-ancestry-group-assignment-to-3.5\">Load gnomAD v3.1 loadings Hail Table and the VariantDataset to apply projection and genetic ancestry group assignment to</a></span></li><li><span><a href=\"#Load-gnomAD-v2.1-precomputed-v2-PCA-scores\" data-toc-modified-id=\"Load-gnomAD-v2.1-precomputed-v2-PCA-scores-3.6\">Load gnomAD v2.1 precomputed v2 PCA scores</a></span></li></ul></li><li><span><a href=\"#Perform-PC-projection-using-the-v3.1-PCA-loadings\" data-toc-modified-id=\"Perform-PC-projection-using-the-v3.1-PCA-loadings-4\">Perform PC projection using the v3.1 PCA loadings</a></span><ul class=\"toc-item\"><li><span><a href=\"#Create-dense-MatrixTable-of-only-the-variants-found-in-the-loadings-Table\" data-toc-modified-id=\"Create-dense-MatrixTable-of-only-the-variants-found-in-the-loadings-Table-4.1\">Create dense MatrixTable of only the variants found in the loadings Table</a></span></li><li><span><a href=\"#We-recommend-filtering-to-entries-meeting-GQ,-DP-and-het-AB-'adj'-thresholds\" data-toc-modified-id=\"We-recommend-filtering-to-entries-meeting-GQ,-DP-and-het-AB-'adj'-thresholds-4.2\">We recommend filtering to entries meeting GQ, DP and het AB 'adj' thresholds</a></span></li><li><span><a href=\"#Checkpoint-dense-MT-for-PC-projection\" data-toc-modified-id=\"Checkpoint-dense-MT-for-PC-projection-4.3\">Checkpoint dense MT for PC projection</a></span></li><li><span><a href=\"#Project-test-dataset-genotypes-onto-gnomAD-v3.1-loadings-and-checkpoint-the-scores\" data-toc-modified-id=\"Project-test-dataset-genotypes-onto-gnomAD-v3.1-loadings-and-checkpoint-the-scores-4.4\">Project test dataset genotypes onto gnomAD v3.1 loadings and checkpoint the scores</a></span></li></ul></li><li><span><a href=\"#Assign-genetic-ancestry-group-using-ONNX-RF-model\" data-toc-modified-id=\"Assign-genetic-ancestry-group-using-ONNX-RF-model-5\">Assign genetic ancestry group using ONNX RF model</a></span><ul class=\"toc-item\"><li><span><a href=\"#v3.1-RF-model\" data-toc-modified-id=\"v3.1-RF-model-5.1\">v3.1 RF model</a></span></li><li><span><a href=\"#v2.1-RF-model\" data-toc-modified-id=\"v2.1-RF-model-5.2\">v2.1 RF model</a></span></li></ul></li></ul></div>"
   ]
  },
  {
   "cell_type": "markdown",
   "id": "331f0ed4",
   "metadata": {},
   "source": [
    "## The following packages are required for this example"
   ]
  },
  {
   "cell_type": "code",
   "execution_count": 1,
   "id": "0c4c48e1",
   "metadata": {
    "scrolled": true
   },
   "outputs": [
    {
     "name": "stdout",
     "output_type": "stream",
     "text": [
      "Requirement already satisfied: onnxruntime in /opt/conda/miniconda3/lib/python3.8/site-packages (1.15.1)\n",
      "Requirement already satisfied: onnx in /opt/conda/miniconda3/lib/python3.8/site-packages (1.14.0)\n",
      "Requirement already satisfied: numpy>=1.21.6 in /opt/conda/miniconda3/lib/python3.8/site-packages (from onnxruntime) (1.21.6)\n",
      "Requirement already satisfied: flatbuffers in /opt/conda/miniconda3/lib/python3.8/site-packages (from onnxruntime) (23.5.26)\n",
      "Requirement already satisfied: sympy in /opt/conda/miniconda3/lib/python3.8/site-packages (from onnxruntime) (1.8)\n",
      "Requirement already satisfied: packaging in /opt/conda/miniconda3/lib/python3.8/site-packages (from onnxruntime) (22.0)\n",
      "Requirement already satisfied: coloredlogs in /opt/conda/miniconda3/lib/python3.8/site-packages (from onnxruntime) (15.0.1)\n",
      "Requirement already satisfied: protobuf in /opt/conda/miniconda3/lib/python3.8/site-packages (from onnxruntime) (3.20.2)\n",
      "Requirement already satisfied: typing-extensions>=3.6.2.1 in /opt/conda/miniconda3/lib/python3.8/site-packages (from onnx) (4.4.0)\n",
      "Requirement already satisfied: humanfriendly>=9.1 in /opt/conda/miniconda3/lib/python3.8/site-packages (from coloredlogs->onnxruntime) (10.0)\n",
      "Requirement already satisfied: mpmath>=0.19 in /opt/conda/miniconda3/lib/python3.8/site-packages (from sympy->onnxruntime) (1.2.1)\n",
      "\u001b[33mWARNING: Running pip as the 'root' user can result in broken permissions and conflicting behaviour with the system package manager. It is recommended to use a virtual environment instead: https://pip.pypa.io/warnings/venv\u001b[0m\u001b[33m\n",
      "\u001b[0m"
     ]
    }
   ],
   "source": [
    "!/opt/conda/default/bin/pip install onnxruntime onnx"
   ]
  },
  {
   "cell_type": "markdown",
   "id": "0c598519",
   "metadata": {},
   "source": [
    "## Imports"
   ]
  },
  {
   "cell_type": "code",
   "execution_count": 2,
   "id": "b3e27746",
   "metadata": {},
   "outputs": [
    {
     "name": "stderr",
     "output_type": "stream",
     "text": [
      "/opt/conda/miniconda3/lib/python3.8/site-packages/skl2onnx/algebra/onnx_ops.py:159: UserWarning: OpSchema.FormalParameter.typeStr is deprecated and will be removed in 1.16. Use OpSchema.FormalParameter.type_str instead.\n",
      "  tys = obj.typeStr or ''\n",
      "/opt/conda/miniconda3/lib/python3.8/site-packages/skl2onnx/algebra/automation.py:154: UserWarning: OpSchema.FormalParameter.isHomogeneous is deprecated and will be removed in 1.16. Use OpSchema.FormalParameter.is_homogeneous instead.\n",
      "  if getattr(obj, 'isHomogeneous', False):\n",
      "/opt/conda/miniconda3/lib/python3.8/site-packages/jinja2/environment.py:474: UserWarning: OpSchema.FormalParameter.typeStr is deprecated and will be removed in 1.16. Use OpSchema.FormalParameter.type_str instead.\n",
      "  return getattr(obj, attribute)\n"
     ]
    }
   ],
   "source": [
    "import onnx\n",
    "import hail as hl\n",
    "from gnomad.sample_qc.ancestry import apply_onnx_classification_model, assign_population_pcs\n",
    "from gnomad.utils.filtering import filter_to_adj\n",
    "\n",
    "from gnomad_qc.v2.resources.basics import get_gnomad_meta\n",
    "from gnomad_qc.v4.resources.basics import get_checkpoint_path\n",
    "\n"
   ]
  },
  {
   "cell_type": "markdown",
   "id": "55413233",
   "metadata": {},
   "source": [
    "## Data Loading"
   ]
  },
  {
   "cell_type": "code",
   "execution_count": 3,
   "id": "5596a8d9",
   "metadata": {},
   "outputs": [],
   "source": [
    "read_if_exists = False"
   ]
  },
  {
   "cell_type": "markdown",
   "id": "f2b5d655",
   "metadata": {},
   "source": [
    "### Define file paths"
   ]
  },
  {
   "cell_type": "markdown",
   "id": "7de44c24",
   "metadata": {},
   "source": [
    "#### v3 example paths"
   ]
  },
  {
   "cell_type": "code",
   "execution_count": 4,
   "id": "30b64b67",
   "metadata": {},
   "outputs": [],
   "source": [
    "# v3.1 PCA loadings.\n",
    "gnomad_v3_loadings = \"gs://gcp-public-data--gnomad/release/3.1/pca/gnomad.v3.1.pca_loadings.ht\"\n",
    "\n",
    "# v3.1 ONNX RF model.\n",
    "gnomad_v3_onnx_rf = \"gs://gcp-public-data--gnomad/release/3.1/pca/gnomad.v3.1.RF_fit.onnx\"\n",
    "\n",
    "# Test dataset to apply projection and genetic ancestry group assignment to.\n",
    "# This will be the path to your dataset VDS.\n",
    "vds_to_project = \"gs://gnomad/v4.0/raw/exomes/testing/gnomad_v4.0_test.vds\"\n",
    "\n",
    "# v3.1 output paths.\n",
    "test_mt_output_path = get_checkpoint_path(\"example_gnomad_v3.1_ancestry_rf\", mt=True)\n",
    "test_scores_output_path = get_checkpoint_path(\"example_gnomad_v3.1_ancestry_rf.scores\")\n",
    "gnomad_v3_assignment_path = get_checkpoint_path(\"example_gnomad_v3.1_ancestry_rf.assignment\")"
   ]
  },
  {
   "cell_type": "markdown",
   "id": "a708a0eb",
   "metadata": {},
   "source": [
    "#### v2 example paths"
   ]
  },
  {
   "cell_type": "markdown",
   "id": "cda1164e",
   "metadata": {},
   "source": [
    "The v2 example will use our precomputed v2 PCA scores. Using the loadings will be the same process as shown for v3.1, it just needs to be used on a dataset aligned to GRCh37 instead of GRCh38.\n"
   ]
  },
  {
   "cell_type": "code",
   "execution_count": 5,
   "id": "5e546b39",
   "metadata": {},
   "outputs": [],
   "source": [
    "# v2.1 ONNX RF model.\n",
    "gnomad_v2_onnx_rf = \"gs://gcp-public-data--gnomad/release/2.1/pca/gnomad.r2.1.RF_fit.onnx\"\n",
    "\n",
    "# v2.1 output path.\n",
    "gnomad_v2_assignment_path = get_checkpoint_path(\"example_gnomad_v2.1_ancestry_rf.assignment\")"
   ]
  },
  {
   "cell_type": "markdown",
   "id": "1fa060a8",
   "metadata": {},
   "source": [
    "### Define the number of PCs used for v2 and v3 genetic ancestry group classification"
   ]
  },
  {
   "cell_type": "code",
   "execution_count": 6,
   "id": "1e89a942",
   "metadata": {},
   "outputs": [],
   "source": [
    "v3_num_pcs = 16\n",
    "v2_num_pcs = 6"
   ]
  },
  {
   "cell_type": "markdown",
   "id": "7027a40d",
   "metadata": {},
   "source": [
    "### Define the RF minimum probability used for v2 and v3 genetic ancestry group classification"
   ]
  },
  {
   "cell_type": "code",
   "execution_count": 7,
   "id": "40256f7e",
   "metadata": {},
   "outputs": [],
   "source": [
    "v3_min_prob = 0.75\n",
    "v2_min_prob = 0.9"
   ]
  },
  {
   "cell_type": "markdown",
   "id": "ec7e7c67",
   "metadata": {},
   "source": [
    "### Load ONNX models"
   ]
  },
  {
   "cell_type": "code",
   "execution_count": 8,
   "id": "2c335d24",
   "metadata": {},
   "outputs": [
    {
     "name": "stderr",
     "output_type": "stream",
     "text": [
      "Initializing Hail with default parameters...\n",
      "Running on Apache Spark version 3.1.3\n",
      "SparkUI available at http://jg2-m.c.broad-mpg-gnomad.internal:36357\n",
      "Welcome to\n",
      "     __  __     <>__\n",
      "    / /_/ /__  __/ /\n",
      "   / __  / _ `/ / /\n",
      "  /_/ /_/\\_,_/_/_/   version 0.2.109-b71b065e4bb6\n",
      "LOGGING: writing to /home/hail/hail-20230710-1923-0.2.109-b71b065e4bb6.log\n"
     ]
    }
   ],
   "source": [
    "with hl.hadoop_open(gnomad_v2_onnx_rf, \"rb\") as f:\n",
    "    v2_onx_fit = onnx.load(f)\n",
    "\n",
    "with hl.hadoop_open(gnomad_v3_onnx_rf, \"rb\") as f:\n",
    "    v3_onx_fit = onnx.load(f)"
   ]
  },
  {
   "cell_type": "markdown",
   "id": "04d064f5",
   "metadata": {},
   "source": [
    "### Load gnomAD v3.1 loadings Hail Table and the VariantDataset to apply projection and genetic ancestry group assignment to"
   ]
  },
  {
   "cell_type": "code",
   "execution_count": 9,
   "id": "9ecafcfa",
   "metadata": {},
   "outputs": [],
   "source": [
    "vds = hl.vds.read_vds(vds_to_project)\n",
    "v3_loading_ht = hl.read_table(gnomad_v3_loadings)"
   ]
  },
  {
   "cell_type": "markdown",
   "id": "d0d3793f",
   "metadata": {},
   "source": [
    "### Load gnomAD v2.1 precomputed v2 PCA scores"
   ]
  },
  {
   "cell_type": "markdown",
   "id": "70c45929",
   "metadata": {},
   "source": [
    "As mentioned above, the v2 example will use our precomputed v2 PCA scores."
   ]
  },
  {
   "cell_type": "code",
   "execution_count": 10,
   "id": "33f3d5fe",
   "metadata": {},
   "outputs": [],
   "source": [
    "v2_meta_ht = get_gnomad_meta(\"exomes\", full_meta=True)\n",
    "v2_pcs_ht = v2_meta_ht.select(\n",
    "    scores=hl.array([v2_meta_ht[f\"PC{pc+1}\"] for pc in range(v2_num_pcs)])\n",
    ").select_globals()\n",
    "v2_pcs_ht = v2_pcs_ht.filter(hl.is_defined(v2_pcs_ht.scores[0]))"
   ]
  },
  {
   "cell_type": "markdown",
   "id": "d39aff53",
   "metadata": {},
   "source": [
    "## Perform PC projection using the v3.1 PCA loadings"
   ]
  },
  {
   "cell_type": "markdown",
   "id": "c88f1813",
   "metadata": {},
   "source": [
    "### Create dense MatrixTable of only the variants found in the loadings Table"
   ]
  },
  {
   "cell_type": "code",
   "execution_count": 11,
   "id": "740e8f98",
   "metadata": {},
   "outputs": [],
   "source": [
    "# Reduce variant data to only needed annotations to reduce annotations being \n",
    "# split and densified.\n",
    "# This includes annotations needed for our standard genotype filter ('adj').\n",
    "vds = hl.vds.VariantDataset(\n",
    "    vds.reference_data, \n",
    "    vds.variant_data.select_entries(\"LA\", \"LGT\", \"GQ\", \"DP\", \"LAD\")\n",
    ")\n",
    "\n",
    "# Split multiallelics.\n",
    "vds = hl.vds.split_multi(vds, filter_changed_loci=True)\n",
    "\n",
    "# Filter to variants in the loadings Table.\n",
    "vds = hl.vds.filter_variants(vds, v3_loading_ht)\n",
    "\n",
    "# Densify VDS.\n",
    "mt = hl.vds.to_dense_mt(vds)"
   ]
  },
  {
   "cell_type": "markdown",
   "id": "68b6ba9c",
   "metadata": {},
   "source": [
    "### We recommend filtering to entries meeting GQ, DP and het AB 'adj' thresholds"
   ]
  },
  {
   "cell_type": "code",
   "execution_count": 12,
   "id": "2e97edd2",
   "metadata": {},
   "outputs": [],
   "source": [
    "mt = filter_to_adj(mt)"
   ]
  },
  {
   "cell_type": "markdown",
   "id": "f671f1d0",
   "metadata": {},
   "source": [
    "### Checkpoint dense MT for PC projection"
   ]
  },
  {
   "cell_type": "code",
   "execution_count": 13,
   "id": "57eead6b",
   "metadata": {},
   "outputs": [
    {
     "name": "stderr",
     "output_type": "stream",
     "text": [
      "2023-07-10 19:29:31.600 Hail: INFO: wrote matrix table with 69018 rows and 649 columns in 3600 partitions to gs://gnomad-tmp/gnomad.exomes.v4.0.qc_data/example_gnomad_v3.1_ancestry_rf.mt\n"
     ]
    }
   ],
   "source": [
    "mt = mt.checkpoint(\n",
    "    test_mt_output_path, \n",
    "    overwrite=not read_if_exists, \n",
    "    _read_if_exists=read_if_exists\n",
    ")"
   ]
  },
  {
   "cell_type": "markdown",
   "id": "b891f453",
   "metadata": {},
   "source": [
    "### Project test dataset genotypes onto gnomAD v3.1 loadings and checkpoint the scores"
   ]
  },
  {
   "cell_type": "code",
   "execution_count": 14,
   "id": "1f4140b9",
   "metadata": {},
   "outputs": [
    {
     "name": "stderr",
     "output_type": "stream",
     "text": [
      "2023-07-10 19:29:33.405 Hail: WARN: cols(): Resulting column table is sorted by 'col_key'.\n",
      "    To preserve matrix table column order, first unkey columns with 'key_cols_by()'\n",
      "2023-07-10 19:29:48.687 Hail: INFO: Coerced sorted dataset\n",
      "2023-07-10 19:29:51.320 Hail: INFO: wrote table with 649 rows in 16 partitions to gs://gnomad-tmp/gnomad.exomes.v4.0.qc_data/example_gnomad_v3.1_ancestry_rf.scores.ht\n"
     ]
    }
   ],
   "source": [
    "# Project new genotypes onto loadings.\n",
    "v3_pcs_ht = hl.experimental.pc_project(\n",
    "    mt.GT, v3_loading_ht.loadings, v3_loading_ht.pca_af,\n",
    ")\n",
    "\n",
    "# Checkpoint PC projection results.\n",
    "v3_pcs_ht = v3_pcs_ht.checkpoint(\n",
    "    test_scores_output_path, \n",
    "    overwrite=not read_if_exists, \n",
    "    _read_if_exists=read_if_exists\n",
    ")"
   ]
  },
  {
   "cell_type": "markdown",
   "id": "755b91b0",
   "metadata": {},
   "source": [
    "## Assign genetic ancestry group using ONNX RF model"
   ]
  },
  {
   "cell_type": "markdown",
   "id": "df7c0a18",
   "metadata": {},
   "source": [
    "### v3.1 RF model"
   ]
  },
  {
   "cell_type": "code",
   "execution_count": 15,
   "id": "0ef40a8e",
   "metadata": {},
   "outputs": [
    {
     "name": "stderr",
     "output_type": "stream",
     "text": [
      "INFO (gnomad.sample_qc.ancestry 369): Found the following sample count after population assignment: nfe: 378, oth: 32, afr: 28, amr: 60, eas: 42, sas: 49, asj: 25, fin: 35\n",
      "2023-07-10 19:29:55.424 Hail: INFO: Coerced sorted dataset\n",
      "2023-07-10 19:29:58.024 Hail: INFO: wrote table with 649 rows in 16 partitions to gs://gnomad-tmp/gnomad.exomes.v4.0.qc_data/example_gnomad_v3.1_ancestry_rf.assignment.ht\n"
     ]
    },
    {
     "data": {
      "text/html": [
       "<table><thead><tr><td style=\"white-space: nowrap; max-width: 500px; overflow: hidden; text-overflow: ellipsis; \" colspan=\"1\"><div style=\"text-align: left;\"></div></td><td style=\"white-space: nowrap; max-width: 500px; overflow: hidden; text-overflow: ellipsis; \" colspan=\"1\"><div style=\"text-align: left;\"></div></td><td style=\"white-space: nowrap; max-width: 500px; overflow: hidden; text-overflow: ellipsis; \" colspan=\"1\"><div style=\"text-align: left;\"></div></td><td style=\"white-space: nowrap; max-width: 500px; overflow: hidden; text-overflow: ellipsis; \" colspan=\"1\"><div style=\"text-align: left;\"></div></td><td style=\"white-space: nowrap; max-width: 500px; overflow: hidden; text-overflow: ellipsis; \" colspan=\"1\"><div style=\"text-align: left;\"></div></td><td style=\"white-space: nowrap; max-width: 500px; overflow: hidden; text-overflow: ellipsis; \" colspan=\"1\"><div style=\"text-align: left;\"></div></td><td style=\"white-space: nowrap; max-width: 500px; overflow: hidden; text-overflow: ellipsis; \" colspan=\"1\"><div style=\"text-align: left;\"></div></td><td style=\"white-space: nowrap; max-width: 500px; overflow: hidden; text-overflow: ellipsis; \" colspan=\"1\"><div style=\"text-align: left;\"></div></td><td style=\"white-space: nowrap; max-width: 500px; overflow: hidden; text-overflow: ellipsis; \" colspan=\"1\"><div style=\"text-align: left;\"></div></td><td style=\"white-space: nowrap; max-width: 500px; overflow: hidden; text-overflow: ellipsis; \" colspan=\"1\"><div style=\"text-align: left;\"></div></td><td style=\"white-space: nowrap; max-width: 500px; overflow: hidden; text-overflow: ellipsis; \" colspan=\"1\"><div style=\"text-align: left;\"></div></td><td style=\"white-space: nowrap; max-width: 500px; overflow: hidden; text-overflow: ellipsis; \" colspan=\"1\"><div style=\"text-align: left;\"></div></td><td style=\"white-space: nowrap; max-width: 500px; overflow: hidden; text-overflow: ellipsis; \" colspan=\"1\"><div style=\"text-align: left;\"></div></td></tr><tr><td style=\"white-space: nowrap; max-width: 500px; overflow: hidden; text-overflow: ellipsis; \" colspan=\"1\"><div style=\"text-align: left;border-bottom: solid 2px #000; padding-bottom: 5px\">s</div></td><td style=\"white-space: nowrap; max-width: 500px; overflow: hidden; text-overflow: ellipsis; \" colspan=\"1\"><div style=\"text-align: left;border-bottom: solid 2px #000; padding-bottom: 5px\">pca_scores</div></td><td style=\"white-space: nowrap; max-width: 500px; overflow: hidden; text-overflow: ellipsis; \" colspan=\"1\"><div style=\"text-align: left;border-bottom: solid 2px #000; padding-bottom: 5px\">pop</div></td><td style=\"white-space: nowrap; max-width: 500px; overflow: hidden; text-overflow: ellipsis; \" colspan=\"1\"><div style=\"text-align: left;border-bottom: solid 2px #000; padding-bottom: 5px\">prob_afr</div></td><td style=\"white-space: nowrap; max-width: 500px; overflow: hidden; text-overflow: ellipsis; \" colspan=\"1\"><div style=\"text-align: left;border-bottom: solid 2px #000; padding-bottom: 5px\">prob_ami</div></td><td style=\"white-space: nowrap; max-width: 500px; overflow: hidden; text-overflow: ellipsis; \" colspan=\"1\"><div style=\"text-align: left;border-bottom: solid 2px #000; padding-bottom: 5px\">prob_amr</div></td><td style=\"white-space: nowrap; max-width: 500px; overflow: hidden; text-overflow: ellipsis; \" colspan=\"1\"><div style=\"text-align: left;border-bottom: solid 2px #000; padding-bottom: 5px\">prob_asj</div></td><td style=\"white-space: nowrap; max-width: 500px; overflow: hidden; text-overflow: ellipsis; \" colspan=\"1\"><div style=\"text-align: left;border-bottom: solid 2px #000; padding-bottom: 5px\">prob_eas</div></td><td style=\"white-space: nowrap; max-width: 500px; overflow: hidden; text-overflow: ellipsis; \" colspan=\"1\"><div style=\"text-align: left;border-bottom: solid 2px #000; padding-bottom: 5px\">prob_fin</div></td><td style=\"white-space: nowrap; max-width: 500px; overflow: hidden; text-overflow: ellipsis; \" colspan=\"1\"><div style=\"text-align: left;border-bottom: solid 2px #000; padding-bottom: 5px\">prob_mid</div></td><td style=\"white-space: nowrap; max-width: 500px; overflow: hidden; text-overflow: ellipsis; \" colspan=\"1\"><div style=\"text-align: left;border-bottom: solid 2px #000; padding-bottom: 5px\">prob_nfe</div></td><td style=\"white-space: nowrap; max-width: 500px; overflow: hidden; text-overflow: ellipsis; \" colspan=\"1\"><div style=\"text-align: left;border-bottom: solid 2px #000; padding-bottom: 5px\">prob_oth</div></td><td style=\"white-space: nowrap; max-width: 500px; overflow: hidden; text-overflow: ellipsis; \" colspan=\"1\"><div style=\"text-align: left;border-bottom: solid 2px #000; padding-bottom: 5px\">prob_sas</div></td></tr><tr><td style=\"white-space: nowrap; max-width: 500px; overflow: hidden; text-overflow: ellipsis; text-align: left;\">str</td><td style=\"white-space: nowrap; max-width: 500px; overflow: hidden; text-overflow: ellipsis; text-align: left;\">array&lt;float64&gt;</td><td style=\"white-space: nowrap; max-width: 500px; overflow: hidden; text-overflow: ellipsis; text-align: left;\">str</td><td style=\"white-space: nowrap; max-width: 500px; overflow: hidden; text-overflow: ellipsis; text-align: left;\">float64</td><td style=\"white-space: nowrap; max-width: 500px; overflow: hidden; text-overflow: ellipsis; text-align: left;\">float64</td><td style=\"white-space: nowrap; max-width: 500px; overflow: hidden; text-overflow: ellipsis; text-align: left;\">float64</td><td style=\"white-space: nowrap; max-width: 500px; overflow: hidden; text-overflow: ellipsis; text-align: left;\">float64</td><td style=\"white-space: nowrap; max-width: 500px; overflow: hidden; text-overflow: ellipsis; text-align: left;\">float64</td><td style=\"white-space: nowrap; max-width: 500px; overflow: hidden; text-overflow: ellipsis; text-align: left;\">float64</td><td style=\"white-space: nowrap; max-width: 500px; overflow: hidden; text-overflow: ellipsis; text-align: left;\">float64</td><td style=\"white-space: nowrap; max-width: 500px; overflow: hidden; text-overflow: ellipsis; text-align: left;\">float64</td><td style=\"white-space: nowrap; max-width: 500px; overflow: hidden; text-overflow: ellipsis; text-align: left;\">float64</td><td style=\"white-space: nowrap; max-width: 500px; overflow: hidden; text-overflow: ellipsis; text-align: left;\">float64</td></tr>\n",
       "</thead><tbody><tr><td style=\"white-space: nowrap; max-width: 500px; overflow: hidden; text-overflow: ellipsis; \">&quot;ALSGEN-S1246_2013-0124&quot;</td><td style=\"white-space: nowrap; max-width: 500px; overflow: hidden; text-overflow: ellipsis; \">[9.34e-02,-2.83e-02,4.36e-03,-2.02e-02,-1.16e-02,2.11e-03,2.98e-04,-3.83e-03,2.37e-03,2.95e-04,-5.25e-03,2.54e-03,-3.75e-03,2.57e-03,-1.46e-03,-3.87e-03]</td><td style=\"white-space: nowrap; max-width: 500px; overflow: hidden; text-overflow: ellipsis; \">&quot;nfe&quot;</td><td style=\"white-space: nowrap; max-width: 500px; overflow: hidden; text-overflow: ellipsis; \">2.00e-02</td><td style=\"white-space: nowrap; max-width: 500px; overflow: hidden; text-overflow: ellipsis; \">0.00e+00</td><td style=\"white-space: nowrap; max-width: 500px; overflow: hidden; text-overflow: ellipsis; \">1.00e-02</td><td style=\"white-space: nowrap; max-width: 500px; overflow: hidden; text-overflow: ellipsis; \">0.00e+00</td><td style=\"white-space: nowrap; max-width: 500px; overflow: hidden; text-overflow: ellipsis; \">0.00e+00</td><td style=\"white-space: nowrap; max-width: 500px; overflow: hidden; text-overflow: ellipsis; \">0.00e+00</td><td style=\"white-space: nowrap; max-width: 500px; overflow: hidden; text-overflow: ellipsis; \">0.00e+00</td><td style=\"white-space: nowrap; max-width: 500px; overflow: hidden; text-overflow: ellipsis; \">9.70e-01</td><td style=\"white-space: nowrap; max-width: 500px; overflow: hidden; text-overflow: ellipsis; \">0.00e+00</td><td style=\"white-space: nowrap; max-width: 500px; overflow: hidden; text-overflow: ellipsis; \">0.00e+00</td></tr>\n",
       "<tr><td style=\"white-space: nowrap; max-width: 500px; overflow: hidden; text-overflow: ellipsis; \">&quot;ALSGEN-S1246_2013-81&quot;</td><td style=\"white-space: nowrap; max-width: 500px; overflow: hidden; text-overflow: ellipsis; \">[9.73e-02,-3.32e-02,5.29e-03,-1.79e-02,-1.59e-02,1.48e-02,-1.40e-03,-1.59e-03,1.62e-03,-4.94e-03,1.14e-02,-1.21e-04,1.48e-04,-5.34e-03,2.48e-03,-1.41e-03]</td><td style=\"white-space: nowrap; max-width: 500px; overflow: hidden; text-overflow: ellipsis; \">&quot;nfe&quot;</td><td style=\"white-space: nowrap; max-width: 500px; overflow: hidden; text-overflow: ellipsis; \">0.00e+00</td><td style=\"white-space: nowrap; max-width: 500px; overflow: hidden; text-overflow: ellipsis; \">0.00e+00</td><td style=\"white-space: nowrap; max-width: 500px; overflow: hidden; text-overflow: ellipsis; \">1.00e-02</td><td style=\"white-space: nowrap; max-width: 500px; overflow: hidden; text-overflow: ellipsis; \">0.00e+00</td><td style=\"white-space: nowrap; max-width: 500px; overflow: hidden; text-overflow: ellipsis; \">0.00e+00</td><td style=\"white-space: nowrap; max-width: 500px; overflow: hidden; text-overflow: ellipsis; \">0.00e+00</td><td style=\"white-space: nowrap; max-width: 500px; overflow: hidden; text-overflow: ellipsis; \">0.00e+00</td><td style=\"white-space: nowrap; max-width: 500px; overflow: hidden; text-overflow: ellipsis; \">9.90e-01</td><td style=\"white-space: nowrap; max-width: 500px; overflow: hidden; text-overflow: ellipsis; \">0.00e+00</td><td style=\"white-space: nowrap; max-width: 500px; overflow: hidden; text-overflow: ellipsis; \">0.00e+00</td></tr>\n",
       "<tr><td style=\"white-space: nowrap; max-width: 500px; overflow: hidden; text-overflow: ellipsis; \">&quot;ALSGEN-S1246_2057-50&quot;</td><td style=\"white-space: nowrap; max-width: 500px; overflow: hidden; text-overflow: ellipsis; \">[8.28e-02,-2.78e-02,7.51e-03,-1.64e-02,-1.23e-02,6.49e-03,-5.25e-03,-4.37e-03,2.19e-03,-1.92e-03,3.36e-03,-1.19e-03,3.38e-03,-2.32e-03,-3.73e-03,-2.49e-04]</td><td style=\"white-space: nowrap; max-width: 500px; overflow: hidden; text-overflow: ellipsis; \">&quot;nfe&quot;</td><td style=\"white-space: nowrap; max-width: 500px; overflow: hidden; text-overflow: ellipsis; \">8.00e-02</td><td style=\"white-space: nowrap; max-width: 500px; overflow: hidden; text-overflow: ellipsis; \">0.00e+00</td><td style=\"white-space: nowrap; max-width: 500px; overflow: hidden; text-overflow: ellipsis; \">0.00e+00</td><td style=\"white-space: nowrap; max-width: 500px; overflow: hidden; text-overflow: ellipsis; \">0.00e+00</td><td style=\"white-space: nowrap; max-width: 500px; overflow: hidden; text-overflow: ellipsis; \">0.00e+00</td><td style=\"white-space: nowrap; max-width: 500px; overflow: hidden; text-overflow: ellipsis; \">0.00e+00</td><td style=\"white-space: nowrap; max-width: 500px; overflow: hidden; text-overflow: ellipsis; \">0.00e+00</td><td style=\"white-space: nowrap; max-width: 500px; overflow: hidden; text-overflow: ellipsis; \">9.10e-01</td><td style=\"white-space: nowrap; max-width: 500px; overflow: hidden; text-overflow: ellipsis; \">0.00e+00</td><td style=\"white-space: nowrap; max-width: 500px; overflow: hidden; text-overflow: ellipsis; \">1.00e-02</td></tr>\n",
       "<tr><td style=\"white-space: nowrap; max-width: 500px; overflow: hidden; text-overflow: ellipsis; \">&quot;ALSGEN-S1246_SLA2010-171&quot;</td><td style=\"white-space: nowrap; max-width: 500px; overflow: hidden; text-overflow: ellipsis; \">[9.84e-02,-3.32e-02,-1.09e-03,-2.36e-02,-3.35e-03,-1.12e-02,-7.33e-03,1.16e-03,-3.01e-03,1.47e-02,-1.53e-02,1.95e-03,-9.43e-03,7.76e-03,-6.42e-05,1.65e-03]</td><td style=\"white-space: nowrap; max-width: 500px; overflow: hidden; text-overflow: ellipsis; \">&quot;nfe&quot;</td><td style=\"white-space: nowrap; max-width: 500px; overflow: hidden; text-overflow: ellipsis; \">0.00e+00</td><td style=\"white-space: nowrap; max-width: 500px; overflow: hidden; text-overflow: ellipsis; \">0.00e+00</td><td style=\"white-space: nowrap; max-width: 500px; overflow: hidden; text-overflow: ellipsis; \">0.00e+00</td><td style=\"white-space: nowrap; max-width: 500px; overflow: hidden; text-overflow: ellipsis; \">0.00e+00</td><td style=\"white-space: nowrap; max-width: 500px; overflow: hidden; text-overflow: ellipsis; \">0.00e+00</td><td style=\"white-space: nowrap; max-width: 500px; overflow: hidden; text-overflow: ellipsis; \">0.00e+00</td><td style=\"white-space: nowrap; max-width: 500px; overflow: hidden; text-overflow: ellipsis; \">0.00e+00</td><td style=\"white-space: nowrap; max-width: 500px; overflow: hidden; text-overflow: ellipsis; \">9.90e-01</td><td style=\"white-space: nowrap; max-width: 500px; overflow: hidden; text-overflow: ellipsis; \">0.00e+00</td><td style=\"white-space: nowrap; max-width: 500px; overflow: hidden; text-overflow: ellipsis; \">1.00e-02</td></tr>\n",
       "<tr><td style=\"white-space: nowrap; max-width: 500px; overflow: hidden; text-overflow: ellipsis; \">&quot;ALSGEN-S1246_SLA2010-368&quot;</td><td style=\"white-space: nowrap; max-width: 500px; overflow: hidden; text-overflow: ellipsis; \">[9.31e-02,-3.20e-02,-7.34e-04,-3.51e-02,5.79e-03,-2.60e-02,-7.88e-03,-4.09e-03,-1.12e-03,8.30e-03,-1.82e-02,-3.86e-03,-1.25e-02,1.30e-02,8.98e-05,3.68e-03]</td><td style=\"white-space: nowrap; max-width: 500px; overflow: hidden; text-overflow: ellipsis; \">&quot;nfe&quot;</td><td style=\"white-space: nowrap; max-width: 500px; overflow: hidden; text-overflow: ellipsis; \">0.00e+00</td><td style=\"white-space: nowrap; max-width: 500px; overflow: hidden; text-overflow: ellipsis; \">0.00e+00</td><td style=\"white-space: nowrap; max-width: 500px; overflow: hidden; text-overflow: ellipsis; \">0.00e+00</td><td style=\"white-space: nowrap; max-width: 500px; overflow: hidden; text-overflow: ellipsis; \">0.00e+00</td><td style=\"white-space: nowrap; max-width: 500px; overflow: hidden; text-overflow: ellipsis; \">0.00e+00</td><td style=\"white-space: nowrap; max-width: 500px; overflow: hidden; text-overflow: ellipsis; \">0.00e+00</td><td style=\"white-space: nowrap; max-width: 500px; overflow: hidden; text-overflow: ellipsis; \">0.00e+00</td><td style=\"white-space: nowrap; max-width: 500px; overflow: hidden; text-overflow: ellipsis; \">1.00e+00</td><td style=\"white-space: nowrap; max-width: 500px; overflow: hidden; text-overflow: ellipsis; \">0.00e+00</td><td style=\"white-space: nowrap; max-width: 500px; overflow: hidden; text-overflow: ellipsis; \">0.00e+00</td></tr>\n",
       "<tr><td style=\"white-space: nowrap; max-width: 500px; overflow: hidden; text-overflow: ellipsis; \">&quot;ALSGEN-S1246_SLA2011-019&quot;</td><td style=\"white-space: nowrap; max-width: 500px; overflow: hidden; text-overflow: ellipsis; \">[9.34e-02,-2.86e-02,-6.85e-03,-3.90e-02,1.63e-02,-3.72e-02,-2.91e-03,-6.41e-03,-5.20e-03,8.16e-03,-2.53e-02,-3.63e-03,-2.02e-02,2.23e-02,-3.74e-03,4.86e-03]</td><td style=\"white-space: nowrap; max-width: 500px; overflow: hidden; text-overflow: ellipsis; \">&quot;nfe&quot;</td><td style=\"white-space: nowrap; max-width: 500px; overflow: hidden; text-overflow: ellipsis; \">0.00e+00</td><td style=\"white-space: nowrap; max-width: 500px; overflow: hidden; text-overflow: ellipsis; \">0.00e+00</td><td style=\"white-space: nowrap; max-width: 500px; overflow: hidden; text-overflow: ellipsis; \">0.00e+00</td><td style=\"white-space: nowrap; max-width: 500px; overflow: hidden; text-overflow: ellipsis; \">0.00e+00</td><td style=\"white-space: nowrap; max-width: 500px; overflow: hidden; text-overflow: ellipsis; \">0.00e+00</td><td style=\"white-space: nowrap; max-width: 500px; overflow: hidden; text-overflow: ellipsis; \">0.00e+00</td><td style=\"white-space: nowrap; max-width: 500px; overflow: hidden; text-overflow: ellipsis; \">0.00e+00</td><td style=\"white-space: nowrap; max-width: 500px; overflow: hidden; text-overflow: ellipsis; \">1.00e+00</td><td style=\"white-space: nowrap; max-width: 500px; overflow: hidden; text-overflow: ellipsis; \">0.00e+00</td><td style=\"white-space: nowrap; max-width: 500px; overflow: hidden; text-overflow: ellipsis; \">0.00e+00</td></tr>\n",
       "<tr><td style=\"white-space: nowrap; max-width: 500px; overflow: hidden; text-overflow: ellipsis; \">&quot;ALSGEN-S1246_SLA2011-093&quot;</td><td style=\"white-space: nowrap; max-width: 500px; overflow: hidden; text-overflow: ellipsis; \">[9.46e-02,-3.17e-02,-7.01e-03,-3.43e-02,5.28e-03,-3.19e-02,-4.50e-03,-2.45e-03,-3.98e-03,1.07e-02,-3.08e-02,-3.32e-03,-2.10e-02,1.87e-02,-2.91e-03,2.25e-03]</td><td style=\"white-space: nowrap; max-width: 500px; overflow: hidden; text-overflow: ellipsis; \">&quot;nfe&quot;</td><td style=\"white-space: nowrap; max-width: 500px; overflow: hidden; text-overflow: ellipsis; \">0.00e+00</td><td style=\"white-space: nowrap; max-width: 500px; overflow: hidden; text-overflow: ellipsis; \">0.00e+00</td><td style=\"white-space: nowrap; max-width: 500px; overflow: hidden; text-overflow: ellipsis; \">0.00e+00</td><td style=\"white-space: nowrap; max-width: 500px; overflow: hidden; text-overflow: ellipsis; \">0.00e+00</td><td style=\"white-space: nowrap; max-width: 500px; overflow: hidden; text-overflow: ellipsis; \">0.00e+00</td><td style=\"white-space: nowrap; max-width: 500px; overflow: hidden; text-overflow: ellipsis; \">0.00e+00</td><td style=\"white-space: nowrap; max-width: 500px; overflow: hidden; text-overflow: ellipsis; \">0.00e+00</td><td style=\"white-space: nowrap; max-width: 500px; overflow: hidden; text-overflow: ellipsis; \">1.00e+00</td><td style=\"white-space: nowrap; max-width: 500px; overflow: hidden; text-overflow: ellipsis; \">0.00e+00</td><td style=\"white-space: nowrap; max-width: 500px; overflow: hidden; text-overflow: ellipsis; \">0.00e+00</td></tr>\n",
       "<tr><td style=\"white-space: nowrap; max-width: 500px; overflow: hidden; text-overflow: ellipsis; \">&quot;ALSGEN-S1246_SLA2011-331&quot;</td><td style=\"white-space: nowrap; max-width: 500px; overflow: hidden; text-overflow: ellipsis; \">[9.50e-02,-3.48e-02,-9.17e-03,-4.26e-02,-2.78e-03,-4.84e-02,-2.04e-02,-1.42e-02,-2.77e-03,9.42e-03,-3.62e-02,9.75e-04,-1.37e-02,1.34e-02,-1.03e-04,3.19e-03]</td><td style=\"white-space: nowrap; max-width: 500px; overflow: hidden; text-overflow: ellipsis; \">&quot;nfe&quot;</td><td style=\"white-space: nowrap; max-width: 500px; overflow: hidden; text-overflow: ellipsis; \">0.00e+00</td><td style=\"white-space: nowrap; max-width: 500px; overflow: hidden; text-overflow: ellipsis; \">0.00e+00</td><td style=\"white-space: nowrap; max-width: 500px; overflow: hidden; text-overflow: ellipsis; \">0.00e+00</td><td style=\"white-space: nowrap; max-width: 500px; overflow: hidden; text-overflow: ellipsis; \">0.00e+00</td><td style=\"white-space: nowrap; max-width: 500px; overflow: hidden; text-overflow: ellipsis; \">0.00e+00</td><td style=\"white-space: nowrap; max-width: 500px; overflow: hidden; text-overflow: ellipsis; \">0.00e+00</td><td style=\"white-space: nowrap; max-width: 500px; overflow: hidden; text-overflow: ellipsis; \">0.00e+00</td><td style=\"white-space: nowrap; max-width: 500px; overflow: hidden; text-overflow: ellipsis; \">1.00e+00</td><td style=\"white-space: nowrap; max-width: 500px; overflow: hidden; text-overflow: ellipsis; \">0.00e+00</td><td style=\"white-space: nowrap; max-width: 500px; overflow: hidden; text-overflow: ellipsis; \">0.00e+00</td></tr>\n",
       "<tr><td style=\"white-space: nowrap; max-width: 500px; overflow: hidden; text-overflow: ellipsis; \">&quot;ALSGEN-S1246_VABT120020&quot;</td><td style=\"white-space: nowrap; max-width: 500px; overflow: hidden; text-overflow: ellipsis; \">[8.74e-02,-2.85e-02,8.87e-03,-8.42e-03,-5.52e-03,1.07e-02,3.90e-02,2.25e-02,-5.78e-03,6.61e-03,-3.89e-03,-7.40e-04,-6.29e-04,6.06e-04,-4.05e-03,-6.14e-04]</td><td style=\"white-space: nowrap; max-width: 500px; overflow: hidden; text-overflow: ellipsis; \">&quot;nfe&quot;</td><td style=\"white-space: nowrap; max-width: 500px; overflow: hidden; text-overflow: ellipsis; \">7.00e-02</td><td style=\"white-space: nowrap; max-width: 500px; overflow: hidden; text-overflow: ellipsis; \">0.00e+00</td><td style=\"white-space: nowrap; max-width: 500px; overflow: hidden; text-overflow: ellipsis; \">7.00e-02</td><td style=\"white-space: nowrap; max-width: 500px; overflow: hidden; text-overflow: ellipsis; \">0.00e+00</td><td style=\"white-space: nowrap; max-width: 500px; overflow: hidden; text-overflow: ellipsis; \">1.00e-02</td><td style=\"white-space: nowrap; max-width: 500px; overflow: hidden; text-overflow: ellipsis; \">0.00e+00</td><td style=\"white-space: nowrap; max-width: 500px; overflow: hidden; text-overflow: ellipsis; \">0.00e+00</td><td style=\"white-space: nowrap; max-width: 500px; overflow: hidden; text-overflow: ellipsis; \">8.20e-01</td><td style=\"white-space: nowrap; max-width: 500px; overflow: hidden; text-overflow: ellipsis; \">0.00e+00</td><td style=\"white-space: nowrap; max-width: 500px; overflow: hidden; text-overflow: ellipsis; \">3.00e-02</td></tr>\n",
       "<tr><td style=\"white-space: nowrap; max-width: 500px; overflow: hidden; text-overflow: ellipsis; \">&quot;Aspera-Columbia_alsag17p3&quot;</td><td style=\"white-space: nowrap; max-width: 500px; overflow: hidden; text-overflow: ellipsis; \">[9.15e-02,-3.15e-02,1.92e-03,-2.80e-02,-1.16e-02,5.49e-03,-4.57e-03,-7.87e-03,2.89e-03,-3.70e-03,-3.05e-03,-5.60e-04,4.44e-03,-4.43e-03,-4.08e-03,-6.72e-04]</td><td style=\"white-space: nowrap; max-width: 500px; overflow: hidden; text-overflow: ellipsis; \">&quot;nfe&quot;</td><td style=\"white-space: nowrap; max-width: 500px; overflow: hidden; text-overflow: ellipsis; \">2.00e-02</td><td style=\"white-space: nowrap; max-width: 500px; overflow: hidden; text-overflow: ellipsis; \">0.00e+00</td><td style=\"white-space: nowrap; max-width: 500px; overflow: hidden; text-overflow: ellipsis; \">0.00e+00</td><td style=\"white-space: nowrap; max-width: 500px; overflow: hidden; text-overflow: ellipsis; \">0.00e+00</td><td style=\"white-space: nowrap; max-width: 500px; overflow: hidden; text-overflow: ellipsis; \">0.00e+00</td><td style=\"white-space: nowrap; max-width: 500px; overflow: hidden; text-overflow: ellipsis; \">0.00e+00</td><td style=\"white-space: nowrap; max-width: 500px; overflow: hidden; text-overflow: ellipsis; \">0.00e+00</td><td style=\"white-space: nowrap; max-width: 500px; overflow: hidden; text-overflow: ellipsis; \">9.80e-01</td><td style=\"white-space: nowrap; max-width: 500px; overflow: hidden; text-overflow: ellipsis; \">0.00e+00</td><td style=\"white-space: nowrap; max-width: 500px; overflow: hidden; text-overflow: ellipsis; \">0.00e+00</td></tr>\n",
       "</tbody></table><p style=\"background: #fdd; padding: 0.4em;\">showing top 10 rows</p>\n"
      ],
      "text/plain": [
       "+-----------------------------+\n",
       "| s                           |\n",
       "+-----------------------------+\n",
       "| str                         |\n",
       "+-----------------------------+\n",
       "| \"ALSGEN-S1246_2013-0124\"    |\n",
       "| \"ALSGEN-S1246_2013-81\"      |\n",
       "| \"ALSGEN-S1246_2057-50\"      |\n",
       "| \"ALSGEN-S1246_SLA2010-171\"  |\n",
       "| \"ALSGEN-S1246_SLA2010-368\"  |\n",
       "| \"ALSGEN-S1246_SLA2011-019\"  |\n",
       "| \"ALSGEN-S1246_SLA2011-093\"  |\n",
       "| \"ALSGEN-S1246_SLA2011-331\"  |\n",
       "| \"ALSGEN-S1246_VABT120020\"   |\n",
       "| \"Aspera-Columbia_alsag17p3\" |\n",
       "+-----------------------------+\n",
       "\n",
       "+------------------------------------------------------------------------------+\n",
       "| pca_scores                                                                   |\n",
       "+------------------------------------------------------------------------------+\n",
       "| array<float64>                                                               |\n",
       "+------------------------------------------------------------------------------+\n",
       "| [9.34e-02,-2.83e-02,4.36e-03,-2.02e-02,-1.16e-02,2.11e-03,2.98e-04,-3.83e... |\n",
       "| [9.73e-02,-3.32e-02,5.29e-03,-1.79e-02,-1.59e-02,1.48e-02,-1.40e-03,-1.59... |\n",
       "| [8.28e-02,-2.78e-02,7.51e-03,-1.64e-02,-1.23e-02,6.49e-03,-5.25e-03,-4.37... |\n",
       "| [9.84e-02,-3.32e-02,-1.09e-03,-2.36e-02,-3.35e-03,-1.12e-02,-7.33e-03,1.1... |\n",
       "| [9.31e-02,-3.20e-02,-7.34e-04,-3.51e-02,5.79e-03,-2.60e-02,-7.88e-03,-4.0... |\n",
       "| [9.34e-02,-2.86e-02,-6.85e-03,-3.90e-02,1.63e-02,-3.72e-02,-2.91e-03,-6.4... |\n",
       "| [9.46e-02,-3.17e-02,-7.01e-03,-3.43e-02,5.28e-03,-3.19e-02,-4.50e-03,-2.4... |\n",
       "| [9.50e-02,-3.48e-02,-9.17e-03,-4.26e-02,-2.78e-03,-4.84e-02,-2.04e-02,-1.... |\n",
       "| [8.74e-02,-2.85e-02,8.87e-03,-8.42e-03,-5.52e-03,1.07e-02,3.90e-02,2.25e-... |\n",
       "| [9.15e-02,-3.15e-02,1.92e-03,-2.80e-02,-1.16e-02,5.49e-03,-4.57e-03,-7.87... |\n",
       "+------------------------------------------------------------------------------+\n",
       "\n",
       "+-------+----------+----------+----------+----------+----------+----------+\n",
       "| pop   | prob_afr | prob_ami | prob_amr | prob_asj | prob_eas | prob_fin |\n",
       "+-------+----------+----------+----------+----------+----------+----------+\n",
       "| str   |  float64 |  float64 |  float64 |  float64 |  float64 |  float64 |\n",
       "+-------+----------+----------+----------+----------+----------+----------+\n",
       "| \"nfe\" | 2.00e-02 | 0.00e+00 | 1.00e-02 | 0.00e+00 | 0.00e+00 | 0.00e+00 |\n",
       "| \"nfe\" | 0.00e+00 | 0.00e+00 | 1.00e-02 | 0.00e+00 | 0.00e+00 | 0.00e+00 |\n",
       "| \"nfe\" | 8.00e-02 | 0.00e+00 | 0.00e+00 | 0.00e+00 | 0.00e+00 | 0.00e+00 |\n",
       "| \"nfe\" | 0.00e+00 | 0.00e+00 | 0.00e+00 | 0.00e+00 | 0.00e+00 | 0.00e+00 |\n",
       "| \"nfe\" | 0.00e+00 | 0.00e+00 | 0.00e+00 | 0.00e+00 | 0.00e+00 | 0.00e+00 |\n",
       "| \"nfe\" | 0.00e+00 | 0.00e+00 | 0.00e+00 | 0.00e+00 | 0.00e+00 | 0.00e+00 |\n",
       "| \"nfe\" | 0.00e+00 | 0.00e+00 | 0.00e+00 | 0.00e+00 | 0.00e+00 | 0.00e+00 |\n",
       "| \"nfe\" | 0.00e+00 | 0.00e+00 | 0.00e+00 | 0.00e+00 | 0.00e+00 | 0.00e+00 |\n",
       "| \"nfe\" | 7.00e-02 | 0.00e+00 | 7.00e-02 | 0.00e+00 | 1.00e-02 | 0.00e+00 |\n",
       "| \"nfe\" | 2.00e-02 | 0.00e+00 | 0.00e+00 | 0.00e+00 | 0.00e+00 | 0.00e+00 |\n",
       "+-------+----------+----------+----------+----------+----------+----------+\n",
       "\n",
       "+----------+----------+----------+----------+\n",
       "| prob_mid | prob_nfe | prob_oth | prob_sas |\n",
       "+----------+----------+----------+----------+\n",
       "|  float64 |  float64 |  float64 |  float64 |\n",
       "+----------+----------+----------+----------+\n",
       "| 0.00e+00 | 9.70e-01 | 0.00e+00 | 0.00e+00 |\n",
       "| 0.00e+00 | 9.90e-01 | 0.00e+00 | 0.00e+00 |\n",
       "| 0.00e+00 | 9.10e-01 | 0.00e+00 | 1.00e-02 |\n",
       "| 0.00e+00 | 9.90e-01 | 0.00e+00 | 1.00e-02 |\n",
       "| 0.00e+00 | 1.00e+00 | 0.00e+00 | 0.00e+00 |\n",
       "| 0.00e+00 | 1.00e+00 | 0.00e+00 | 0.00e+00 |\n",
       "| 0.00e+00 | 1.00e+00 | 0.00e+00 | 0.00e+00 |\n",
       "| 0.00e+00 | 1.00e+00 | 0.00e+00 | 0.00e+00 |\n",
       "| 0.00e+00 | 8.20e-01 | 0.00e+00 | 3.00e-02 |\n",
       "| 0.00e+00 | 9.80e-01 | 0.00e+00 | 0.00e+00 |\n",
       "+----------+----------+----------+----------+\n",
       "showing top 10 rows"
      ]
     },
     "metadata": {},
     "output_type": "display_data"
    },
    {
     "data": {
      "text/plain": [
       "{'afr': 28,\n",
       " 'amr': 60,\n",
       " 'asj': 25,\n",
       " 'eas': 42,\n",
       " 'fin': 35,\n",
       " 'nfe': 378,\n",
       " 'oth': 32,\n",
       " 'sas': 49}"
      ]
     },
     "execution_count": 15,
     "metadata": {},
     "output_type": "execute_result"
    }
   ],
   "source": [
    "ht, model = assign_population_pcs(\n",
    "    v3_pcs_ht,\n",
    "    pc_cols=v3_pcs_ht.scores[:v3_num_pcs],\n",
    "    fit=v3_onx_fit,\n",
    "    min_prob=v3_min_prob,\n",
    "    apply_model_func = apply_onnx_classification_model,\n",
    ")\n",
    "ht = ht.checkpoint(\n",
    "    gnomad_v3_assignment_path, \n",
    "    overwrite=not read_if_exists, \n",
    "    _read_if_exists=read_if_exists\n",
    ")\n",
    "\n",
    "ht.show()\n",
    "ht.aggregate(hl.agg.counter(ht.pop))"
   ]
  },
  {
   "cell_type": "markdown",
   "id": "d6160910",
   "metadata": {},
   "source": [
    "### v2.1 RF model"
   ]
  },
  {
   "cell_type": "code",
   "execution_count": 16,
   "id": "c7e44e27",
   "metadata": {},
   "outputs": [
    {
     "name": "stderr",
     "output_type": "stream",
     "text": [
      "INFO (gnomad.sample_qc.ancestry 369): Found the following sample count after population assignment: fin: 14181, nfe: 74477, oth: 4631, amr: 21237, eas: 11842, sas: 17305, afr: 10425, asj: 5968\n",
      "2023-07-10 19:32:20.206 Hail: INFO: Coerced sorted dataset\n",
      "2023-07-10 19:32:24.510 Hail: INFO: wrote table with 160066 rows in 16 partitions to gs://gnomad-tmp/gnomad.exomes.v4.0.qc_data/example_gnomad_v2.1_ancestry_rf.assignment.ht\n"
     ]
    },
    {
     "data": {
      "text/html": [
       "<table><thead><tr><td style=\"white-space: nowrap; max-width: 500px; overflow: hidden; text-overflow: ellipsis; \" colspan=\"1\"><div style=\"text-align: left;\"></div></td><td style=\"white-space: nowrap; max-width: 500px; overflow: hidden; text-overflow: ellipsis; \" colspan=\"1\"><div style=\"text-align: left;\"></div></td><td style=\"white-space: nowrap; max-width: 500px; overflow: hidden; text-overflow: ellipsis; \" colspan=\"1\"><div style=\"text-align: left;\"></div></td><td style=\"white-space: nowrap; max-width: 500px; overflow: hidden; text-overflow: ellipsis; \" colspan=\"1\"><div style=\"text-align: left;\"></div></td><td style=\"white-space: nowrap; max-width: 500px; overflow: hidden; text-overflow: ellipsis; \" colspan=\"1\"><div style=\"text-align: left;\"></div></td><td style=\"white-space: nowrap; max-width: 500px; overflow: hidden; text-overflow: ellipsis; \" colspan=\"1\"><div style=\"text-align: left;\"></div></td><td style=\"white-space: nowrap; max-width: 500px; overflow: hidden; text-overflow: ellipsis; \" colspan=\"1\"><div style=\"text-align: left;\"></div></td><td style=\"white-space: nowrap; max-width: 500px; overflow: hidden; text-overflow: ellipsis; \" colspan=\"1\"><div style=\"text-align: left;\"></div></td><td style=\"white-space: nowrap; max-width: 500px; overflow: hidden; text-overflow: ellipsis; \" colspan=\"1\"><div style=\"text-align: left;\"></div></td><td style=\"white-space: nowrap; max-width: 500px; overflow: hidden; text-overflow: ellipsis; \" colspan=\"1\"><div style=\"text-align: left;\"></div></td></tr><tr><td style=\"white-space: nowrap; max-width: 500px; overflow: hidden; text-overflow: ellipsis; \" colspan=\"1\"><div style=\"text-align: left;border-bottom: solid 2px #000; padding-bottom: 5px\">s</div></td><td style=\"white-space: nowrap; max-width: 500px; overflow: hidden; text-overflow: ellipsis; \" colspan=\"1\"><div style=\"text-align: left;border-bottom: solid 2px #000; padding-bottom: 5px\">pca_scores</div></td><td style=\"white-space: nowrap; max-width: 500px; overflow: hidden; text-overflow: ellipsis; \" colspan=\"1\"><div style=\"text-align: left;border-bottom: solid 2px #000; padding-bottom: 5px\">pop</div></td><td style=\"white-space: nowrap; max-width: 500px; overflow: hidden; text-overflow: ellipsis; \" colspan=\"1\"><div style=\"text-align: left;border-bottom: solid 2px #000; padding-bottom: 5px\">prob_afr</div></td><td style=\"white-space: nowrap; max-width: 500px; overflow: hidden; text-overflow: ellipsis; \" colspan=\"1\"><div style=\"text-align: left;border-bottom: solid 2px #000; padding-bottom: 5px\">prob_amr</div></td><td style=\"white-space: nowrap; max-width: 500px; overflow: hidden; text-overflow: ellipsis; \" colspan=\"1\"><div style=\"text-align: left;border-bottom: solid 2px #000; padding-bottom: 5px\">prob_asj</div></td><td style=\"white-space: nowrap; max-width: 500px; overflow: hidden; text-overflow: ellipsis; \" colspan=\"1\"><div style=\"text-align: left;border-bottom: solid 2px #000; padding-bottom: 5px\">prob_eas</div></td><td style=\"white-space: nowrap; max-width: 500px; overflow: hidden; text-overflow: ellipsis; \" colspan=\"1\"><div style=\"text-align: left;border-bottom: solid 2px #000; padding-bottom: 5px\">prob_fin</div></td><td style=\"white-space: nowrap; max-width: 500px; overflow: hidden; text-overflow: ellipsis; \" colspan=\"1\"><div style=\"text-align: left;border-bottom: solid 2px #000; padding-bottom: 5px\">prob_nfe</div></td><td style=\"white-space: nowrap; max-width: 500px; overflow: hidden; text-overflow: ellipsis; \" colspan=\"1\"><div style=\"text-align: left;border-bottom: solid 2px #000; padding-bottom: 5px\">prob_sas</div></td></tr><tr><td style=\"white-space: nowrap; max-width: 500px; overflow: hidden; text-overflow: ellipsis; text-align: left;\">str</td><td style=\"white-space: nowrap; max-width: 500px; overflow: hidden; text-overflow: ellipsis; text-align: left;\">array&lt;float64&gt;</td><td style=\"white-space: nowrap; max-width: 500px; overflow: hidden; text-overflow: ellipsis; text-align: left;\">str</td><td style=\"white-space: nowrap; max-width: 500px; overflow: hidden; text-overflow: ellipsis; text-align: left;\">float64</td><td style=\"white-space: nowrap; max-width: 500px; overflow: hidden; text-overflow: ellipsis; text-align: left;\">float64</td><td style=\"white-space: nowrap; max-width: 500px; overflow: hidden; text-overflow: ellipsis; text-align: left;\">float64</td><td style=\"white-space: nowrap; max-width: 500px; overflow: hidden; text-overflow: ellipsis; text-align: left;\">float64</td><td style=\"white-space: nowrap; max-width: 500px; overflow: hidden; text-overflow: ellipsis; text-align: left;\">float64</td><td style=\"white-space: nowrap; max-width: 500px; overflow: hidden; text-overflow: ellipsis; text-align: left;\">float64</td><td style=\"white-space: nowrap; max-width: 500px; overflow: hidden; text-overflow: ellipsis; text-align: left;\">float64</td></tr>\n",
       "</thead><tbody><tr><td style=\"white-space: nowrap; max-width: 500px; overflow: hidden; text-overflow: ellipsis; \">&quot;00-0062&quot;</td><td style=\"white-space: nowrap; max-width: 500px; overflow: hidden; text-overflow: ellipsis; \">[6.59e-02,-4.08e-02,-1.91e-02,8.17e-02,9.76e-02,-2.08e-02]</td><td style=\"white-space: nowrap; max-width: 500px; overflow: hidden; text-overflow: ellipsis; \">&quot;fin&quot;</td><td style=\"white-space: nowrap; max-width: 500px; overflow: hidden; text-overflow: ellipsis; \">0.00e+00</td><td style=\"white-space: nowrap; max-width: 500px; overflow: hidden; text-overflow: ellipsis; \">0.00e+00</td><td style=\"white-space: nowrap; max-width: 500px; overflow: hidden; text-overflow: ellipsis; \">0.00e+00</td><td style=\"white-space: nowrap; max-width: 500px; overflow: hidden; text-overflow: ellipsis; \">0.00e+00</td><td style=\"white-space: nowrap; max-width: 500px; overflow: hidden; text-overflow: ellipsis; \">1.00e+00</td><td style=\"white-space: nowrap; max-width: 500px; overflow: hidden; text-overflow: ellipsis; \">0.00e+00</td><td style=\"white-space: nowrap; max-width: 500px; overflow: hidden; text-overflow: ellipsis; \">0.00e+00</td></tr>\n",
       "<tr><td style=\"white-space: nowrap; max-width: 500px; overflow: hidden; text-overflow: ellipsis; \">&quot;00-0183&quot;</td><td style=\"white-space: nowrap; max-width: 500px; overflow: hidden; text-overflow: ellipsis; \">[6.45e-02,-4.07e-02,-1.73e-02,7.24e-02,8.67e-02,-2.25e-02]</td><td style=\"white-space: nowrap; max-width: 500px; overflow: hidden; text-overflow: ellipsis; \">&quot;fin&quot;</td><td style=\"white-space: nowrap; max-width: 500px; overflow: hidden; text-overflow: ellipsis; \">0.00e+00</td><td style=\"white-space: nowrap; max-width: 500px; overflow: hidden; text-overflow: ellipsis; \">0.00e+00</td><td style=\"white-space: nowrap; max-width: 500px; overflow: hidden; text-overflow: ellipsis; \">0.00e+00</td><td style=\"white-space: nowrap; max-width: 500px; overflow: hidden; text-overflow: ellipsis; \">0.00e+00</td><td style=\"white-space: nowrap; max-width: 500px; overflow: hidden; text-overflow: ellipsis; \">1.00e+00</td><td style=\"white-space: nowrap; max-width: 500px; overflow: hidden; text-overflow: ellipsis; \">0.00e+00</td><td style=\"white-space: nowrap; max-width: 500px; overflow: hidden; text-overflow: ellipsis; \">0.00e+00</td></tr>\n",
       "<tr><td style=\"white-space: nowrap; max-width: 500px; overflow: hidden; text-overflow: ellipsis; \">&quot;00-0184&quot;</td><td style=\"white-space: nowrap; max-width: 500px; overflow: hidden; text-overflow: ellipsis; \">[6.64e-02,-3.70e-02,-1.70e-02,9.22e-02,1.08e-01,-3.11e-02]</td><td style=\"white-space: nowrap; max-width: 500px; overflow: hidden; text-overflow: ellipsis; \">&quot;fin&quot;</td><td style=\"white-space: nowrap; max-width: 500px; overflow: hidden; text-overflow: ellipsis; \">0.00e+00</td><td style=\"white-space: nowrap; max-width: 500px; overflow: hidden; text-overflow: ellipsis; \">0.00e+00</td><td style=\"white-space: nowrap; max-width: 500px; overflow: hidden; text-overflow: ellipsis; \">0.00e+00</td><td style=\"white-space: nowrap; max-width: 500px; overflow: hidden; text-overflow: ellipsis; \">0.00e+00</td><td style=\"white-space: nowrap; max-width: 500px; overflow: hidden; text-overflow: ellipsis; \">1.00e+00</td><td style=\"white-space: nowrap; max-width: 500px; overflow: hidden; text-overflow: ellipsis; \">0.00e+00</td><td style=\"white-space: nowrap; max-width: 500px; overflow: hidden; text-overflow: ellipsis; \">0.00e+00</td></tr>\n",
       "<tr><td style=\"white-space: nowrap; max-width: 500px; overflow: hidden; text-overflow: ellipsis; \">&quot;00-0186&quot;</td><td style=\"white-space: nowrap; max-width: 500px; overflow: hidden; text-overflow: ellipsis; \">[6.24e-02,-3.81e-02,-1.64e-02,6.25e-02,7.07e-02,-1.32e-02]</td><td style=\"white-space: nowrap; max-width: 500px; overflow: hidden; text-overflow: ellipsis; \">&quot;fin&quot;</td><td style=\"white-space: nowrap; max-width: 500px; overflow: hidden; text-overflow: ellipsis; \">0.00e+00</td><td style=\"white-space: nowrap; max-width: 500px; overflow: hidden; text-overflow: ellipsis; \">0.00e+00</td><td style=\"white-space: nowrap; max-width: 500px; overflow: hidden; text-overflow: ellipsis; \">0.00e+00</td><td style=\"white-space: nowrap; max-width: 500px; overflow: hidden; text-overflow: ellipsis; \">0.00e+00</td><td style=\"white-space: nowrap; max-width: 500px; overflow: hidden; text-overflow: ellipsis; \">1.00e+00</td><td style=\"white-space: nowrap; max-width: 500px; overflow: hidden; text-overflow: ellipsis; \">0.00e+00</td><td style=\"white-space: nowrap; max-width: 500px; overflow: hidden; text-overflow: ellipsis; \">0.00e+00</td></tr>\n",
       "<tr><td style=\"white-space: nowrap; max-width: 500px; overflow: hidden; text-overflow: ellipsis; \">&quot;00-0188&quot;</td><td style=\"white-space: nowrap; max-width: 500px; overflow: hidden; text-overflow: ellipsis; \">[6.69e-02,-4.19e-02,-1.86e-02,9.69e-02,1.16e-01,-3.18e-02]</td><td style=\"white-space: nowrap; max-width: 500px; overflow: hidden; text-overflow: ellipsis; \">&quot;fin&quot;</td><td style=\"white-space: nowrap; max-width: 500px; overflow: hidden; text-overflow: ellipsis; \">0.00e+00</td><td style=\"white-space: nowrap; max-width: 500px; overflow: hidden; text-overflow: ellipsis; \">0.00e+00</td><td style=\"white-space: nowrap; max-width: 500px; overflow: hidden; text-overflow: ellipsis; \">0.00e+00</td><td style=\"white-space: nowrap; max-width: 500px; overflow: hidden; text-overflow: ellipsis; \">0.00e+00</td><td style=\"white-space: nowrap; max-width: 500px; overflow: hidden; text-overflow: ellipsis; \">1.00e+00</td><td style=\"white-space: nowrap; max-width: 500px; overflow: hidden; text-overflow: ellipsis; \">0.00e+00</td><td style=\"white-space: nowrap; max-width: 500px; overflow: hidden; text-overflow: ellipsis; \">0.00e+00</td></tr>\n",
       "<tr><td style=\"white-space: nowrap; max-width: 500px; overflow: hidden; text-overflow: ellipsis; \">&quot;00-0191&quot;</td><td style=\"white-space: nowrap; max-width: 500px; overflow: hidden; text-overflow: ellipsis; \">[6.49e-02,-4.36e-02,-1.65e-02,7.96e-02,8.97e-02,-2.36e-02]</td><td style=\"white-space: nowrap; max-width: 500px; overflow: hidden; text-overflow: ellipsis; \">&quot;fin&quot;</td><td style=\"white-space: nowrap; max-width: 500px; overflow: hidden; text-overflow: ellipsis; \">0.00e+00</td><td style=\"white-space: nowrap; max-width: 500px; overflow: hidden; text-overflow: ellipsis; \">0.00e+00</td><td style=\"white-space: nowrap; max-width: 500px; overflow: hidden; text-overflow: ellipsis; \">0.00e+00</td><td style=\"white-space: nowrap; max-width: 500px; overflow: hidden; text-overflow: ellipsis; \">0.00e+00</td><td style=\"white-space: nowrap; max-width: 500px; overflow: hidden; text-overflow: ellipsis; \">1.00e+00</td><td style=\"white-space: nowrap; max-width: 500px; overflow: hidden; text-overflow: ellipsis; \">0.00e+00</td><td style=\"white-space: nowrap; max-width: 500px; overflow: hidden; text-overflow: ellipsis; \">0.00e+00</td></tr>\n",
       "<tr><td style=\"white-space: nowrap; max-width: 500px; overflow: hidden; text-overflow: ellipsis; \">&quot;00-0193&quot;</td><td style=\"white-space: nowrap; max-width: 500px; overflow: hidden; text-overflow: ellipsis; \">[6.61e-02,-3.88e-02,-2.05e-02,8.33e-02,9.81e-02,-2.57e-02]</td><td style=\"white-space: nowrap; max-width: 500px; overflow: hidden; text-overflow: ellipsis; \">&quot;fin&quot;</td><td style=\"white-space: nowrap; max-width: 500px; overflow: hidden; text-overflow: ellipsis; \">0.00e+00</td><td style=\"white-space: nowrap; max-width: 500px; overflow: hidden; text-overflow: ellipsis; \">0.00e+00</td><td style=\"white-space: nowrap; max-width: 500px; overflow: hidden; text-overflow: ellipsis; \">0.00e+00</td><td style=\"white-space: nowrap; max-width: 500px; overflow: hidden; text-overflow: ellipsis; \">0.00e+00</td><td style=\"white-space: nowrap; max-width: 500px; overflow: hidden; text-overflow: ellipsis; \">1.00e+00</td><td style=\"white-space: nowrap; max-width: 500px; overflow: hidden; text-overflow: ellipsis; \">0.00e+00</td><td style=\"white-space: nowrap; max-width: 500px; overflow: hidden; text-overflow: ellipsis; \">0.00e+00</td></tr>\n",
       "<tr><td style=\"white-space: nowrap; max-width: 500px; overflow: hidden; text-overflow: ellipsis; \">&quot;00-0194&quot;</td><td style=\"white-space: nowrap; max-width: 500px; overflow: hidden; text-overflow: ellipsis; \">[6.83e-02,-4.24e-02,-2.08e-02,1.00e-01,1.18e-01,-3.71e-02]</td><td style=\"white-space: nowrap; max-width: 500px; overflow: hidden; text-overflow: ellipsis; \">&quot;fin&quot;</td><td style=\"white-space: nowrap; max-width: 500px; overflow: hidden; text-overflow: ellipsis; \">0.00e+00</td><td style=\"white-space: nowrap; max-width: 500px; overflow: hidden; text-overflow: ellipsis; \">0.00e+00</td><td style=\"white-space: nowrap; max-width: 500px; overflow: hidden; text-overflow: ellipsis; \">0.00e+00</td><td style=\"white-space: nowrap; max-width: 500px; overflow: hidden; text-overflow: ellipsis; \">0.00e+00</td><td style=\"white-space: nowrap; max-width: 500px; overflow: hidden; text-overflow: ellipsis; \">1.00e+00</td><td style=\"white-space: nowrap; max-width: 500px; overflow: hidden; text-overflow: ellipsis; \">0.00e+00</td><td style=\"white-space: nowrap; max-width: 500px; overflow: hidden; text-overflow: ellipsis; \">0.00e+00</td></tr>\n",
       "<tr><td style=\"white-space: nowrap; max-width: 500px; overflow: hidden; text-overflow: ellipsis; \">&quot;00-0199&quot;</td><td style=\"white-space: nowrap; max-width: 500px; overflow: hidden; text-overflow: ellipsis; \">[6.73e-02,-3.96e-02,-2.21e-02,9.67e-02,1.15e-01,-3.88e-02]</td><td style=\"white-space: nowrap; max-width: 500px; overflow: hidden; text-overflow: ellipsis; \">&quot;fin&quot;</td><td style=\"white-space: nowrap; max-width: 500px; overflow: hidden; text-overflow: ellipsis; \">0.00e+00</td><td style=\"white-space: nowrap; max-width: 500px; overflow: hidden; text-overflow: ellipsis; \">0.00e+00</td><td style=\"white-space: nowrap; max-width: 500px; overflow: hidden; text-overflow: ellipsis; \">0.00e+00</td><td style=\"white-space: nowrap; max-width: 500px; overflow: hidden; text-overflow: ellipsis; \">0.00e+00</td><td style=\"white-space: nowrap; max-width: 500px; overflow: hidden; text-overflow: ellipsis; \">1.00e+00</td><td style=\"white-space: nowrap; max-width: 500px; overflow: hidden; text-overflow: ellipsis; \">0.00e+00</td><td style=\"white-space: nowrap; max-width: 500px; overflow: hidden; text-overflow: ellipsis; \">0.00e+00</td></tr>\n",
       "<tr><td style=\"white-space: nowrap; max-width: 500px; overflow: hidden; text-overflow: ellipsis; \">&quot;00-0204&quot;</td><td style=\"white-space: nowrap; max-width: 500px; overflow: hidden; text-overflow: ellipsis; \">[6.51e-02,-4.41e-02,-1.55e-02,5.75e-02,6.46e-02,-1.20e-02]</td><td style=\"white-space: nowrap; max-width: 500px; overflow: hidden; text-overflow: ellipsis; \">&quot;fin&quot;</td><td style=\"white-space: nowrap; max-width: 500px; overflow: hidden; text-overflow: ellipsis; \">0.00e+00</td><td style=\"white-space: nowrap; max-width: 500px; overflow: hidden; text-overflow: ellipsis; \">0.00e+00</td><td style=\"white-space: nowrap; max-width: 500px; overflow: hidden; text-overflow: ellipsis; \">0.00e+00</td><td style=\"white-space: nowrap; max-width: 500px; overflow: hidden; text-overflow: ellipsis; \">0.00e+00</td><td style=\"white-space: nowrap; max-width: 500px; overflow: hidden; text-overflow: ellipsis; \">1.00e+00</td><td style=\"white-space: nowrap; max-width: 500px; overflow: hidden; text-overflow: ellipsis; \">0.00e+00</td><td style=\"white-space: nowrap; max-width: 500px; overflow: hidden; text-overflow: ellipsis; \">0.00e+00</td></tr>\n",
       "</tbody></table><p style=\"background: #fdd; padding: 0.4em;\">showing top 10 rows</p>\n"
      ],
      "text/plain": [
       "+-----------+------------------------------------------------------------+\n",
       "| s         | pca_scores                                                 |\n",
       "+-----------+------------------------------------------------------------+\n",
       "| str       | array<float64>                                             |\n",
       "+-----------+------------------------------------------------------------+\n",
       "| \"00-0062\" | [6.59e-02,-4.08e-02,-1.91e-02,8.17e-02,9.76e-02,-2.08e-02] |\n",
       "| \"00-0183\" | [6.45e-02,-4.07e-02,-1.73e-02,7.24e-02,8.67e-02,-2.25e-02] |\n",
       "| \"00-0184\" | [6.64e-02,-3.70e-02,-1.70e-02,9.22e-02,1.08e-01,-3.11e-02] |\n",
       "| \"00-0186\" | [6.24e-02,-3.81e-02,-1.64e-02,6.25e-02,7.07e-02,-1.32e-02] |\n",
       "| \"00-0188\" | [6.69e-02,-4.19e-02,-1.86e-02,9.69e-02,1.16e-01,-3.18e-02] |\n",
       "| \"00-0191\" | [6.49e-02,-4.36e-02,-1.65e-02,7.96e-02,8.97e-02,-2.36e-02] |\n",
       "| \"00-0193\" | [6.61e-02,-3.88e-02,-2.05e-02,8.33e-02,9.81e-02,-2.57e-02] |\n",
       "| \"00-0194\" | [6.83e-02,-4.24e-02,-2.08e-02,1.00e-01,1.18e-01,-3.71e-02] |\n",
       "| \"00-0199\" | [6.73e-02,-3.96e-02,-2.21e-02,9.67e-02,1.15e-01,-3.88e-02] |\n",
       "| \"00-0204\" | [6.51e-02,-4.41e-02,-1.55e-02,5.75e-02,6.46e-02,-1.20e-02] |\n",
       "+-----------+------------------------------------------------------------+\n",
       "\n",
       "+-------+----------+----------+----------+----------+----------+----------+\n",
       "| pop   | prob_afr | prob_amr | prob_asj | prob_eas | prob_fin | prob_nfe |\n",
       "+-------+----------+----------+----------+----------+----------+----------+\n",
       "| str   |  float64 |  float64 |  float64 |  float64 |  float64 |  float64 |\n",
       "+-------+----------+----------+----------+----------+----------+----------+\n",
       "| \"fin\" | 0.00e+00 | 0.00e+00 | 0.00e+00 | 0.00e+00 | 1.00e+00 | 0.00e+00 |\n",
       "| \"fin\" | 0.00e+00 | 0.00e+00 | 0.00e+00 | 0.00e+00 | 1.00e+00 | 0.00e+00 |\n",
       "| \"fin\" | 0.00e+00 | 0.00e+00 | 0.00e+00 | 0.00e+00 | 1.00e+00 | 0.00e+00 |\n",
       "| \"fin\" | 0.00e+00 | 0.00e+00 | 0.00e+00 | 0.00e+00 | 1.00e+00 | 0.00e+00 |\n",
       "| \"fin\" | 0.00e+00 | 0.00e+00 | 0.00e+00 | 0.00e+00 | 1.00e+00 | 0.00e+00 |\n",
       "| \"fin\" | 0.00e+00 | 0.00e+00 | 0.00e+00 | 0.00e+00 | 1.00e+00 | 0.00e+00 |\n",
       "| \"fin\" | 0.00e+00 | 0.00e+00 | 0.00e+00 | 0.00e+00 | 1.00e+00 | 0.00e+00 |\n",
       "| \"fin\" | 0.00e+00 | 0.00e+00 | 0.00e+00 | 0.00e+00 | 1.00e+00 | 0.00e+00 |\n",
       "| \"fin\" | 0.00e+00 | 0.00e+00 | 0.00e+00 | 0.00e+00 | 1.00e+00 | 0.00e+00 |\n",
       "| \"fin\" | 0.00e+00 | 0.00e+00 | 0.00e+00 | 0.00e+00 | 1.00e+00 | 0.00e+00 |\n",
       "+-------+----------+----------+----------+----------+----------+----------+\n",
       "\n",
       "+----------+\n",
       "| prob_sas |\n",
       "+----------+\n",
       "|  float64 |\n",
       "+----------+\n",
       "| 0.00e+00 |\n",
       "| 0.00e+00 |\n",
       "| 0.00e+00 |\n",
       "| 0.00e+00 |\n",
       "| 0.00e+00 |\n",
       "| 0.00e+00 |\n",
       "| 0.00e+00 |\n",
       "| 0.00e+00 |\n",
       "| 0.00e+00 |\n",
       "| 0.00e+00 |\n",
       "+----------+\n",
       "showing top 10 rows"
      ]
     },
     "metadata": {},
     "output_type": "display_data"
    },
    {
     "data": {
      "text/plain": [
       "{'afr': 10425,\n",
       " 'amr': 21237,\n",
       " 'asj': 5968,\n",
       " 'eas': 11842,\n",
       " 'fin': 14181,\n",
       " 'nfe': 74477,\n",
       " 'oth': 4631,\n",
       " 'sas': 17305}"
      ]
     },
     "execution_count": 16,
     "metadata": {},
     "output_type": "execute_result"
    }
   ],
   "source": [
    "ht, model = assign_population_pcs(\n",
    "    v2_pcs_ht,\n",
    "    pc_cols=v2_pcs_ht.scores,\n",
    "    fit=v2_onx_fit,\n",
    "    min_prob=v2_min_prob,\n",
    "    apply_model_func=apply_onnx_classification_model,\n",
    ")\n",
    "ht = ht.checkpoint(\n",
    "    gnomad_v2_assignment_path, \n",
    "    overwrite=not read_if_exists, \n",
    "    _read_if_exists=read_if_exists\n",
    ")\n",
    "\n",
    "ht.show()\n",
    "ht.aggregate(hl.agg.counter(ht.pop))"
   ]
  }
 ],
 "metadata": {
  "kernelspec": {
   "display_name": "Hail",
   "language": "python",
   "name": "hail"
  },
  "language_info": {
   "codemirror_mode": {
    "name": "ipython",
    "version": 3
   },
   "file_extension": ".py",
   "mimetype": "text/x-python",
   "name": "python",
   "nbconvert_exporter": "python",
   "pygments_lexer": "ipython3",
   "version": "3.8.13"
  },
  "toc": {
   "base_numbering": 1,
   "nav_menu": {},
   "number_sections": false,
   "sideBar": true,
   "skip_h1_title": true,
   "title_cell": "Table of Contents",
   "title_sidebar": "Contents",
   "toc_cell": true,
   "toc_position": {
    "height": "calc(100% - 180px)",
    "left": "10px",
    "top": "150px",
    "width": "261.633px"
   },
   "toc_section_display": true,
   "toc_window_display": true
  },
  "widgets": {
   "application/vnd.jupyter.widget-state+json": {
    "state": {},
    "version_major": 2,
    "version_minor": 0
   }
  }
 },
 "nbformat": 4,
 "nbformat_minor": 5
}
